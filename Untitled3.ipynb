{
 "cells": [
  {
   "cell_type": "code",
   "execution_count": 1,
   "metadata": {},
   "outputs": [],
   "source": [
    "import pandas as pd\n",
    "from splinter import Browser\n",
    "from bs4 import BeautifulSoup as bs\n",
    "import requests"
   ]
  },
  {
   "cell_type": "code",
   "execution_count": 2,
   "metadata": {},
   "outputs": [],
   "source": [
    "url = \"https://www.pro-football-reference.com/players/L/LuckAn00.htm\""
   ]
  },
  {
   "cell_type": "code",
   "execution_count": 3,
   "metadata": {},
   "outputs": [],
   "source": [
    "dfs = pd.read_html(url)"
   ]
  },
  {
   "cell_type": "code",
   "execution_count": 4,
   "metadata": {},
   "outputs": [
    {
     "data": {
      "text/html": [
       "<div>\n",
       "<style scoped>\n",
       "    .dataframe tbody tr th:only-of-type {\n",
       "        vertical-align: middle;\n",
       "    }\n",
       "\n",
       "    .dataframe tbody tr th {\n",
       "        vertical-align: top;\n",
       "    }\n",
       "\n",
       "    .dataframe thead th {\n",
       "        text-align: right;\n",
       "    }\n",
       "</style>\n",
       "<table border=\"1\" class=\"dataframe\">\n",
       "  <thead>\n",
       "    <tr style=\"text-align: right;\">\n",
       "      <th></th>\n",
       "      <th>Year</th>\n",
       "      <th>Age</th>\n",
       "      <th>Tm</th>\n",
       "      <th>Pos</th>\n",
       "      <th>No.</th>\n",
       "      <th>G</th>\n",
       "      <th>GS</th>\n",
       "      <th>QBrec</th>\n",
       "      <th>Cmp</th>\n",
       "      <th>Att</th>\n",
       "      <th>...</th>\n",
       "      <th>Rate</th>\n",
       "      <th>QBR</th>\n",
       "      <th>Sk</th>\n",
       "      <th>Yds.1</th>\n",
       "      <th>NY/A</th>\n",
       "      <th>ANY/A</th>\n",
       "      <th>Sk%</th>\n",
       "      <th>4QC</th>\n",
       "      <th>GWD</th>\n",
       "      <th>AV</th>\n",
       "    </tr>\n",
       "  </thead>\n",
       "  <tbody>\n",
       "    <tr>\n",
       "      <th>0</th>\n",
       "      <td>2012*</td>\n",
       "      <td>23.0</td>\n",
       "      <td>IND</td>\n",
       "      <td>QB</td>\n",
       "      <td>12</td>\n",
       "      <td>16</td>\n",
       "      <td>16</td>\n",
       "      <td>11-5-0</td>\n",
       "      <td>339</td>\n",
       "      <td>627.0</td>\n",
       "      <td>...</td>\n",
       "      <td>76.5</td>\n",
       "      <td>65.6</td>\n",
       "      <td>41</td>\n",
       "      <td>246.00</td>\n",
       "      <td>6.18</td>\n",
       "      <td>5.66</td>\n",
       "      <td>6.1</td>\n",
       "      <td>4</td>\n",
       "      <td>7</td>\n",
       "      <td>13.0</td>\n",
       "    </tr>\n",
       "    <tr>\n",
       "      <th>1</th>\n",
       "      <td>2013*</td>\n",
       "      <td>24.0</td>\n",
       "      <td>IND</td>\n",
       "      <td>QB</td>\n",
       "      <td>12</td>\n",
       "      <td>16</td>\n",
       "      <td>16</td>\n",
       "      <td>11-5-0</td>\n",
       "      <td>343</td>\n",
       "      <td>570.0</td>\n",
       "      <td>...</td>\n",
       "      <td>87.0</td>\n",
       "      <td>63.7</td>\n",
       "      <td>32</td>\n",
       "      <td>227.00</td>\n",
       "      <td>5.97</td>\n",
       "      <td>6.06</td>\n",
       "      <td>5.3</td>\n",
       "      <td>3</td>\n",
       "      <td>3</td>\n",
       "      <td>15.0</td>\n",
       "    </tr>\n",
       "    <tr>\n",
       "      <th>2</th>\n",
       "      <td>2014*</td>\n",
       "      <td>25.0</td>\n",
       "      <td>IND</td>\n",
       "      <td>QB</td>\n",
       "      <td>12</td>\n",
       "      <td>16</td>\n",
       "      <td>16</td>\n",
       "      <td>11-5-0</td>\n",
       "      <td>380</td>\n",
       "      <td>616.0</td>\n",
       "      <td>...</td>\n",
       "      <td>96.5</td>\n",
       "      <td>62.6</td>\n",
       "      <td>27</td>\n",
       "      <td>161.00</td>\n",
       "      <td>7.15</td>\n",
       "      <td>7.28</td>\n",
       "      <td>4.2</td>\n",
       "      <td>1</td>\n",
       "      <td>1</td>\n",
       "      <td>16.0</td>\n",
       "    </tr>\n",
       "    <tr>\n",
       "      <th>3</th>\n",
       "      <td>2015</td>\n",
       "      <td>26.0</td>\n",
       "      <td>IND</td>\n",
       "      <td>qb</td>\n",
       "      <td>12</td>\n",
       "      <td>7</td>\n",
       "      <td>7</td>\n",
       "      <td>2-5-0</td>\n",
       "      <td>162</td>\n",
       "      <td>293.0</td>\n",
       "      <td>...</td>\n",
       "      <td>74.9</td>\n",
       "      <td>49.4</td>\n",
       "      <td>15</td>\n",
       "      <td>88.00</td>\n",
       "      <td>5.82</td>\n",
       "      <td>5.04</td>\n",
       "      <td>4.9</td>\n",
       "      <td>1</td>\n",
       "      <td>2</td>\n",
       "      <td>4.0</td>\n",
       "    </tr>\n",
       "    <tr>\n",
       "      <th>4</th>\n",
       "      <td>2016</td>\n",
       "      <td>27.0</td>\n",
       "      <td>IND</td>\n",
       "      <td>QB</td>\n",
       "      <td>12</td>\n",
       "      <td>15</td>\n",
       "      <td>15</td>\n",
       "      <td>8-7-0</td>\n",
       "      <td>346</td>\n",
       "      <td>545.0</td>\n",
       "      <td>...</td>\n",
       "      <td>96.4</td>\n",
       "      <td>65.9</td>\n",
       "      <td>41</td>\n",
       "      <td>268.00</td>\n",
       "      <td>6.78</td>\n",
       "      <td>6.84</td>\n",
       "      <td>7.0</td>\n",
       "      <td>4</td>\n",
       "      <td>4</td>\n",
       "      <td>16.0</td>\n",
       "    </tr>\n",
       "    <tr>\n",
       "      <th>5</th>\n",
       "      <td>2018*</td>\n",
       "      <td>29.0</td>\n",
       "      <td>IND</td>\n",
       "      <td>QB</td>\n",
       "      <td>12</td>\n",
       "      <td>16</td>\n",
       "      <td>16</td>\n",
       "      <td>10-6-0</td>\n",
       "      <td>430</td>\n",
       "      <td>639.0</td>\n",
       "      <td>...</td>\n",
       "      <td>98.7</td>\n",
       "      <td>71.5</td>\n",
       "      <td>18</td>\n",
       "      <td>134.00</td>\n",
       "      <td>6.79</td>\n",
       "      <td>6.95</td>\n",
       "      <td>2.7</td>\n",
       "      <td>3</td>\n",
       "      <td>3</td>\n",
       "      <td>15.0</td>\n",
       "    </tr>\n",
       "    <tr>\n",
       "      <th>6</th>\n",
       "      <td>Career</td>\n",
       "      <td>NaN</td>\n",
       "      <td>NaN</td>\n",
       "      <td>NaN</td>\n",
       "      <td>86</td>\n",
       "      <td>86</td>\n",
       "      <td>53-33-0</td>\n",
       "      <td>2000</td>\n",
       "      <td>3290</td>\n",
       "      <td>60.8</td>\n",
       "      <td>...</td>\n",
       "      <td>NaN</td>\n",
       "      <td>174.0</td>\n",
       "      <td>1124</td>\n",
       "      <td>6.51</td>\n",
       "      <td>6.42</td>\n",
       "      <td>5.00</td>\n",
       "      <td>16.0</td>\n",
       "      <td>20</td>\n",
       "      <td>79</td>\n",
       "      <td>NaN</td>\n",
       "    </tr>\n",
       "  </tbody>\n",
       "</table>\n",
       "<p>7 rows × 31 columns</p>\n",
       "</div>"
      ],
      "text/plain": [
       "     Year   Age   Tm  Pos  No.   G       GS   QBrec   Cmp    Att  ...   Rate  \\\n",
       "0   2012*  23.0  IND   QB   12  16       16  11-5-0   339  627.0  ...   76.5   \n",
       "1   2013*  24.0  IND   QB   12  16       16  11-5-0   343  570.0  ...   87.0   \n",
       "2   2014*  25.0  IND   QB   12  16       16  11-5-0   380  616.0  ...   96.5   \n",
       "3    2015  26.0  IND   qb   12   7        7   2-5-0   162  293.0  ...   74.9   \n",
       "4    2016  27.0  IND   QB   12  15       15   8-7-0   346  545.0  ...   96.4   \n",
       "5   2018*  29.0  IND   QB   12  16       16  10-6-0   430  639.0  ...   98.7   \n",
       "6  Career   NaN  NaN  NaN   86  86  53-33-0    2000  3290   60.8  ...    NaN   \n",
       "\n",
       "     QBR    Sk   Yds.1  NY/A  ANY/A   Sk%  4QC  GWD    AV  \n",
       "0   65.6    41  246.00  6.18   5.66   6.1    4    7  13.0  \n",
       "1   63.7    32  227.00  5.97   6.06   5.3    3    3  15.0  \n",
       "2   62.6    27  161.00  7.15   7.28   4.2    1    1  16.0  \n",
       "3   49.4    15   88.00  5.82   5.04   4.9    1    2   4.0  \n",
       "4   65.9    41  268.00  6.78   6.84   7.0    4    4  16.0  \n",
       "5   71.5    18  134.00  6.79   6.95   2.7    3    3  15.0  \n",
       "6  174.0  1124    6.51  6.42   5.00  16.0   20   79   NaN  \n",
       "\n",
       "[7 rows x 31 columns]"
      ]
     },
     "execution_count": 4,
     "metadata": {},
     "output_type": "execute_result"
    }
   ],
   "source": [
    "dfs[0]"
   ]
  },
  {
   "cell_type": "code",
   "execution_count": 5,
   "metadata": {},
   "outputs": [
    {
     "data": {
      "text/plain": [
       "[     Year   Age   Tm  Pos  No.   G       GS   QBrec   Cmp    Att  ...   Rate  \\\n",
       " 0   2012*  23.0  IND   QB   12  16       16  11-5-0   339  627.0  ...   76.5   \n",
       " 1   2013*  24.0  IND   QB   12  16       16  11-5-0   343  570.0  ...   87.0   \n",
       " 2   2014*  25.0  IND   QB   12  16       16  11-5-0   380  616.0  ...   96.5   \n",
       " 3    2015  26.0  IND   qb   12   7        7   2-5-0   162  293.0  ...   74.9   \n",
       " 4    2016  27.0  IND   QB   12  15       15   8-7-0   346  545.0  ...   96.4   \n",
       " 5   2018*  29.0  IND   QB   12  16       16  10-6-0   430  639.0  ...   98.7   \n",
       " 6  Career   NaN  NaN  NaN   86  86  53-33-0    2000  3290   60.8  ...    NaN   \n",
       " \n",
       "      QBR    Sk   Yds.1  NY/A  ANY/A   Sk%  4QC  GWD    AV  \n",
       " 0   65.6    41  246.00  6.18   5.66   6.1    4    7  13.0  \n",
       " 1   63.7    32  227.00  5.97   6.06   5.3    3    3  15.0  \n",
       " 2   62.6    27  161.00  7.15   7.28   4.2    1    1  16.0  \n",
       " 3   49.4    15   88.00  5.82   5.04   4.9    1    2   4.0  \n",
       " 4   65.9    41  268.00  6.78   6.84   7.0    4    4  16.0  \n",
       " 5   71.5    18  134.00  6.79   6.95   2.7    3    3  15.0  \n",
       " 6  174.0  1124    6.51  6.42   5.00  16.0   20   79   NaN  \n",
       " \n",
       " [7 rows x 31 columns]]"
      ]
     },
     "execution_count": 5,
     "metadata": {},
     "output_type": "execute_result"
    }
   ],
   "source": [
    "dfs"
   ]
  },
  {
   "cell_type": "code",
   "execution_count": 6,
   "metadata": {},
   "outputs": [
    {
     "name": "stderr",
     "output_type": "stream",
     "text": [
      "C:\\Users\\nicho\\Anaconda3\\lib\\site-packages\\bs4\\__init__.py:181: UserWarning: No parser was explicitly specified, so I'm using the best available HTML parser for this system (\"lxml\"). This usually isn't a problem, but if you run this code on another system, or in a different virtual environment, it may use a different parser and behave differently.\n",
      "\n",
      "The code that caused this warning is on line 193 of the file C:\\Users\\nicho\\Anaconda3\\lib\\runpy.py. To get rid of this warning, change code that looks like this:\n",
      "\n",
      " BeautifulSoup(YOUR_MARKUP})\n",
      "\n",
      "to this:\n",
      "\n",
      " BeautifulSoup(YOUR_MARKUP, \"lxml\")\n",
      "\n",
      "  markup_type=markup_type))\n"
     ]
    },
    {
     "data": {
      "text/plain": [
       "[<table class=\"row_summable sortable stats_table\" data-cols-to-freeze=\"2\" id=\"passing\"><caption>Passing Table</caption>\n",
       " <colgroup><col/><col/><col/><col/><col/><col/><col/><col/><col/><col/><col/><col/><col/><col/><col/><col/><col/><col/><col/><col/><col/><col/><col/><col/><col/><col/><col/><col/><col/><col/><col/></colgroup>\n",
       " <thead>\n",
       " <tr>\n",
       " <th aria-label=\"Year\" class=\" poptip sort_default_asc left\" data-stat=\"year_id\" scope=\"col\">Year</th>\n",
       " <th aria-label=\"Player's age on December 31st of that year\" class=\" poptip sort_default_asc center\" data-stat=\"age\" data-tip=\"Player's age on December 31st of that year\" scope=\"col\">Age</th>\n",
       " <th aria-label=\"Tm\" class=\" poptip sort_default_asc show_partial_when_sorting left\" data-stat=\"team\" scope=\"col\">Tm</th>\n",
       " <th aria-label=\"PositionIn player and team season stats,Capitals indicates primary starter.Lower-case means part-time starter.\" class=\" poptip sort_default_asc left\" data-stat=\"pos\" data-tip=\"&lt;b&gt;Position&lt;/b&gt;&lt;br&gt;In player and team season stats,&lt;br&gt;Capitals indicates primary starter.&lt;br&gt;Lower-case means part-time starter.\" scope=\"col\">Pos</th>\n",
       " <th aria-label=\"Uniform number\" class=\" poptip sort_default_asc center\" data-stat=\"uniform_number\" data-tip=\"Uniform number\" scope=\"col\">No.</th>\n",
       " <th aria-label=\"Games\" class=\" poptip center\" data-stat=\"g\" data-tip=\"Games played\" scope=\"col\">G</th>\n",
       " <th aria-label=\"Games Started\" class=\" poptip center\" data-stat=\"gs\" data-tip=\"Games started as an offensive or defensive player&lt;br /&gt;Numbers are complete for 1920-59&lt;br /&gt;and 1970-present but are incomplete otherwise\" scope=\"col\">GS</th>\n",
       " <th aria-label=\"QB Record\" class=\" poptip center\" data-stat=\"qb_rec\" data-tip=\"Team record in games started by this QB (regular season)\" scope=\"col\">QBrec</th>\n",
       " <th aria-label=\"Passes Completed\" class=\" poptip center\" data-stat=\"pass_cmp\" data-tip=\"Passes completed\" scope=\"col\">Cmp</th>\n",
       " <th aria-label=\"Pass Attempts\" class=\" poptip center\" data-stat=\"pass_att\" data-tip=\"Passes attempted\" scope=\"col\">Att</th>\n",
       " <th aria-label=\"Pass Completion %\" class=\" poptip hide_non_quals center\" data-filter=\"1\" data-name=\"Pass Completion %\" data-stat=\"pass_cmp_perc\" data-tip=\"Percentage of Passes Completed&lt;br&gt;Minimum 14 attempts per scheduled game to qualify as leader.&lt;br /&gt;Minimum 1500 pass attempts to qualify as career leader.\" scope=\"col\">Cmp%</th>\n",
       " <th aria-label=\"Passing Yds\" class=\" poptip center\" data-stat=\"pass_yds\" data-tip=\"Yards Gained by Passing&lt;br&gt;For teams, sack yardage is deducted from this total\" scope=\"col\">Yds</th>\n",
       " <th aria-label=\"Passing TD\" class=\" poptip center\" data-stat=\"pass_td\" data-tip=\"Passing Touchdowns\" scope=\"col\">TD</th>\n",
       " <th aria-label=\"Passing TD %\" class=\" poptip hide_non_quals center\" data-filter=\"1\" data-name=\"Passing TD %\" data-stat=\"pass_td_perc\" data-tip=\"Percentage of Touchdowns Thrown when Attempting to Pass &lt;br&gt;Minimum 14 attempts per scheduled game to qualify as leader.&lt;br /&gt;Minimum 1500 pass attempts to qualify as career leader\" scope=\"col\">TD%</th>\n",
       " <th aria-label=\"Passes Intercepted\" class=\" poptip center\" data-stat=\"pass_int\" data-tip=\"Interceptions thrown\" scope=\"col\">Int</th>\n",
       " <th aria-label=\"Pass Intercept. %\" class=\" poptip sort_default_asc hide_non_quals center\" data-filter=\"1\" data-name=\"Pass Intercept. %\" data-stat=\"pass_int_perc\" data-tip=\"Percentage of Times Intercepted when Attempting to Pass &lt;br&gt;Minimum 14 attempts per scheduled game to qualify as leader.&lt;br /&gt;Minimum 1500 pass attempts to qualify as career leader.&lt;br /&gt;\" scope=\"col\">Int%</th>\n",
       " <th aria-label=\"Long Pass\" class=\" poptip center\" data-stat=\"pass_long\" data-tip=\"Longest Completed Pass Thrown (complete since 1975)\" scope=\"col\">Lng</th>\n",
       " <th aria-label=\"Yds/Pass Att\" class=\" poptip hide_non_quals center\" data-filter=\"1\" data-name=\"Yds/Pass Att\" data-stat=\"pass_yds_per_att\" data-tip=\"Yards gained per pass attempt &lt;br&gt;Minimum 14 attempts per scheduled game to qualify as leader.&lt;br&gt;Minimum 1500 pass attempts to qualify as career leader.\" scope=\"col\">Y/A</th>\n",
       " <th aria-label=\"Adj Yds/Pass Att\" class=\" poptip hide_non_quals center\" data-filter=\"1\" data-name=\"Adj Yds/Pass Att\" data-stat=\"pass_adj_yds_per_att\" data-tip=\"Adjusted Yards gained per pass attempt&lt;br /&gt;(Passing Yards + 20 * Passing TD - 45 * Interceptions) / (Passes Attempted)&lt;br /&gt;Minimum 14 attempts per scheduled game to qualify as leader.&lt;br /&gt;Minimum 1500 pass attempts to qualify as career leader.\" scope=\"col\">AY/A</th>\n",
       " <th aria-label=\"Yds/Pass Cmp\" class=\" poptip hide_non_quals center\" data-filter=\"1\" data-name=\"Yds/Pass Cmp\" data-stat=\"pass_yds_per_cmp\" data-tip=\"&lt;b&gt;Yards gained per pass completion&lt;/b&gt; (Passing Yards) / (Passes Completed)&lt;br /&gt;Minimum 14 pass attempts per schedule game to qualify as leader.&lt;br /&gt;Minimum 1500 pass attempts to qualify as career leader\" scope=\"col\">Y/C</th>\n",
       " <th aria-label=\"Passing Yds/Game\" class=\" poptip hide_non_quals center\" data-filter=\"1\" data-name=\"Passing Yds/Game\" data-stat=\"pass_yds_per_g\" data-tip=\"&lt;b&gt;Yards gained per game played&lt;/b&gt;&lt;br&gt;Minimum half a game played per scheduled game to qualify as leader.&lt;br&gt;Minimum 1500 pass attempts to qualify as career leader\" scope=\"col\">Y/G</th>\n",
       " <th aria-label=\"Passer Rating\" class=\" poptip hide_non_quals center\" data-filter=\"1\" data-name=\"Passer Rating\" data-stat=\"pass_rating\" data-tip=\"Quarterback Rating, see glossary for details&lt;br&gt;Different ratings are used by the NFL and NCAA.&lt;br /&gt;Minimum 1500 pass attempts to qualify as career leader, minimum 150 pass attempts for playoffs leader.\" scope=\"col\">Rate</th>\n",
       " <th aria-label=\"QBR\" class=\" poptip show_partial_when_sorting hide_non_quals center\" data-filter=\"1\" data-name=\"QBR\" data-stat=\"qbr\" data-tip=\"&lt;b&gt;QBR&lt;/b&gt;&lt;br /&gt;ESPN s Total Quarterback Rating, calculated since 2006\" scope=\"col\">QBR</th>\n",
       " <th aria-label=\"Sacked \" class=\" poptip center\" data-stat=\"pass_sacked\" data-tip=\"Times Sacked (first recorded in 1969, player per game since 1981)\" scope=\"col\">Sk</th>\n",
       " <th aria-label=\"Sacked Yds Lost\" class=\" poptip center\" data-stat=\"pass_sacked_yds\" data-tip=\"Yards lost due to sacks (first recorded in 1969, player per game since 1981)\" scope=\"col\">Yds</th>\n",
       " <th aria-label=\"Net Yds/Pass Att\" class=\" poptip hide_non_quals center\" data-filter=\"1\" data-name=\"Net Yds/Pass Att\" data-stat=\"pass_net_yds_per_att\" data-tip=\"Net Yards gained per pass attempt&lt;br /&gt;(Passing Yards - Sack Yards) / (Passes Attempted + Times Sacked)&lt;br /&gt;Minimum 14 attempts per schedule game to qualify as leader.&lt;br /&gt;Minimum 1500 pass attempts to qualify as career leader.\" scope=\"col\">NY/A</th>\n",
       " <th aria-label=\"Adj Net Yds/Pass Att\" class=\" poptip hide_non_quals center\" data-filter=\"1\" data-name=\"Adj Net Yds/Pass Att\" data-stat=\"pass_adj_net_yds_per_att\" data-tip=\"&lt;b&gt;Adjusted Net Yards per Pass Attempt&lt;/b&gt;&lt;br&gt;(Passing Yards - Sack Yards + (20 * Passing TD) - (45 * Interceptions)) / (Passes Attempted + Times Sacked)&lt;br&gt;Minimum 14 attempts per scheduled game to qualify as leader.&lt;br /&gt;Minimum 1500 pass attempts to qualify as career leader.\" scope=\"col\">ANY/A</th>\n",
       " <th aria-label=\"Sack %\" class=\" poptip sort_default_asc hide_non_quals center\" data-filter=\"1\" data-name=\"Sack %\" data-stat=\"pass_sacked_perc\" data-tip=\"Percentage of Time Sacked when Attempting to Pass: Times Sacked / (Passes Attempted + Times Sacked)&lt;br&gt;Minimum 14 attempts + sacks per scheduled game to qualify as leader.&lt;br /&gt;Minimum 1500 pass attempts to qualify as career leader\" scope=\"col\">Sk%</th>\n",
       " <th aria-label=\"Comebacks\" class=\" poptip center\" data-stat=\"comebacks\" data-tip=\"Comebacks led by quarterback.&lt;br /&gt;Must be an offensive scoring drive in the 4th quarter, with the team trailing by one score, though not necessarily a drive to take the lead. Only games ending in a win or tie are included.\" scope=\"col\">4QC</th>\n",
       " <th aria-label=\"Game-Winning Drives\" class=\" poptip center\" data-stat=\"gwd\" data-tip=\"Game-winning drives led by quarterback.&lt;br /&gt;Must be an offensive scoring drive in the 4th quarter or overtime that puts the winning team ahead for the last time.\" scope=\"col\">GWD</th>\n",
       " <th aria-label=\"Approximate Value\" class=\" poptip center\" data-stat=\"av\" data-tip=\"Approximate Value is our attempt to attach a single number to every player-season since 1960.&lt;br&gt;See the glossary for more information.\" scope=\"col\">AV</th>\n",
       " </tr>\n",
       " </thead>\n",
       " <tbody>\n",
       " <tr class=\"full_table\" id=\"passing.2012\"><th class=\"left \" data-stat=\"year_id\" scope=\"row\"><a href=\"/years/2012/\">2012</a>*</th><td class=\"right \" data-stat=\"age\">23</td><td class=\"left \" data-stat=\"team\"><a href=\"/teams/clt/2012.htm\" title=\"Indianapolis Colts\">IND</a></td><td class=\"left \" data-stat=\"pos\">QB</td><td class=\"right \" data-stat=\"uniform_number\">12</td><td class=\"right \" data-stat=\"g\">16</td><td class=\"right \" data-stat=\"gs\">16</td><td class=\"right \" csk=\"0.68750\" data-stat=\"qb_rec\">11-5-0</td><td class=\"right \" data-stat=\"pass_cmp\">339</td><td class=\"right \" data-stat=\"pass_att\">627</td><td class=\"right \" data-stat=\"pass_cmp_perc\">54.1</td><td class=\"right \" data-stat=\"pass_yds\">4374</td><td class=\"right \" data-stat=\"pass_td\">23</td><td class=\"right \" data-stat=\"pass_td_perc\">3.7</td><td class=\"right \" data-stat=\"pass_int\">18</td><td class=\"right \" data-stat=\"pass_int_perc\">2.9</td><td class=\"right \" data-stat=\"pass_long\">70</td><td class=\"right \" data-stat=\"pass_yds_per_att\">7.0</td><td class=\"right \" data-stat=\"pass_adj_yds_per_att\">6.4</td><td class=\"right \" data-stat=\"pass_yds_per_cmp\">12.9</td><td class=\"right \" data-stat=\"pass_yds_per_g\">273.4</td><td class=\"right \" data-stat=\"pass_rating\">76.5</td><td class=\"right \" data-stat=\"qbr\">65.6</td><td class=\"right \" data-stat=\"pass_sacked\">41</td><td class=\"right \" data-stat=\"pass_sacked_yds\">246</td><td class=\"right \" data-stat=\"pass_net_yds_per_att\">6.18</td><td class=\"right \" data-stat=\"pass_adj_net_yds_per_att\">5.66</td><td class=\"right \" data-stat=\"pass_sacked_perc\">6.1</td><td class=\"right \" data-stat=\"comebacks\">4</td><td class=\"right \" data-stat=\"gwd\"><strong>7</strong></td><td class=\"right \" data-stat=\"av\">13</td></tr>\n",
       " <tr class=\"full_table\" id=\"passing.2013\"><th class=\"left \" data-stat=\"year_id\" scope=\"row\"><a href=\"/years/2013/\">2013</a>*</th><td class=\"right \" data-stat=\"age\">24</td><td class=\"left \" data-stat=\"team\"><a href=\"/teams/clt/2013.htm\" title=\"Indianapolis Colts\">IND</a></td><td class=\"left \" data-stat=\"pos\">QB</td><td class=\"right \" data-stat=\"uniform_number\">12</td><td class=\"right \" data-stat=\"g\">16</td><td class=\"right \" data-stat=\"gs\">16</td><td class=\"right \" csk=\"0.68750\" data-stat=\"qb_rec\">11-5-0</td><td class=\"right \" data-stat=\"pass_cmp\">343</td><td class=\"right \" data-stat=\"pass_att\">570</td><td class=\"right \" data-stat=\"pass_cmp_perc\">60.2</td><td class=\"right \" data-stat=\"pass_yds\">3822</td><td class=\"right \" data-stat=\"pass_td\">23</td><td class=\"right \" data-stat=\"pass_td_perc\">4.0</td><td class=\"right \" data-stat=\"pass_int\">9</td><td class=\"right \" data-stat=\"pass_int_perc\">1.6</td><td class=\"right \" data-stat=\"pass_long\">73</td><td class=\"right \" data-stat=\"pass_yds_per_att\">6.7</td><td class=\"right \" data-stat=\"pass_adj_yds_per_att\">6.8</td><td class=\"right \" data-stat=\"pass_yds_per_cmp\">11.1</td><td class=\"right \" data-stat=\"pass_yds_per_g\">238.9</td><td class=\"right \" data-stat=\"pass_rating\">87.0</td><td class=\"right \" data-stat=\"qbr\">63.7</td><td class=\"right \" data-stat=\"pass_sacked\">32</td><td class=\"right \" data-stat=\"pass_sacked_yds\">227</td><td class=\"right \" data-stat=\"pass_net_yds_per_att\">5.97</td><td class=\"right \" data-stat=\"pass_adj_net_yds_per_att\">6.06</td><td class=\"right \" data-stat=\"pass_sacked_perc\">5.3</td><td class=\"right \" data-stat=\"comebacks\">3</td><td class=\"right \" data-stat=\"gwd\">3</td><td class=\"right \" data-stat=\"av\">15</td></tr>\n",
       " <tr class=\"full_table\" id=\"passing.2014\"><th class=\"left \" data-stat=\"year_id\" scope=\"row\"><a href=\"/years/2014/\">2014</a>*</th><td class=\"right \" data-stat=\"age\">25</td><td class=\"left \" data-stat=\"team\"><a href=\"/teams/clt/2014.htm\" title=\"Indianapolis Colts\">IND</a></td><td class=\"left \" data-stat=\"pos\">QB</td><td class=\"right \" data-stat=\"uniform_number\">12</td><td class=\"right \" data-stat=\"g\">16</td><td class=\"right \" data-stat=\"gs\">16</td><td class=\"right \" csk=\"0.68750\" data-stat=\"qb_rec\">11-5-0</td><td class=\"right \" data-stat=\"pass_cmp\">380</td><td class=\"right \" data-stat=\"pass_att\">616</td><td class=\"right \" data-stat=\"pass_cmp_perc\">61.7</td><td class=\"right \" data-stat=\"pass_yds\">4761</td><td class=\"right \" data-stat=\"pass_td\"><strong>40</strong></td><td class=\"right \" data-stat=\"pass_td_perc\">6.5</td><td class=\"right \" data-stat=\"pass_int\">16</td><td class=\"right \" data-stat=\"pass_int_perc\">2.6</td><td class=\"right \" data-stat=\"pass_long\">80</td><td class=\"right \" data-stat=\"pass_yds_per_att\">7.7</td><td class=\"right \" data-stat=\"pass_adj_yds_per_att\">7.9</td><td class=\"right \" data-stat=\"pass_yds_per_cmp\">12.5</td><td class=\"right \" data-stat=\"pass_yds_per_g\">297.6</td><td class=\"right \" data-stat=\"pass_rating\">96.5</td><td class=\"right \" data-stat=\"qbr\">62.6</td><td class=\"right \" data-stat=\"pass_sacked\">27</td><td class=\"right \" data-stat=\"pass_sacked_yds\">161</td><td class=\"right \" data-stat=\"pass_net_yds_per_att\">7.15</td><td class=\"right \" data-stat=\"pass_adj_net_yds_per_att\">7.28</td><td class=\"right \" data-stat=\"pass_sacked_perc\">4.2</td><td class=\"right \" data-stat=\"comebacks\">1</td><td class=\"right \" data-stat=\"gwd\">1</td><td class=\"right \" data-stat=\"av\">16</td></tr>\n",
       " <tr class=\"full_table\" id=\"passing.2015\"><th class=\"left \" data-stat=\"year_id\" scope=\"row\"><a href=\"/years/2015/\">2015</a></th><td class=\"right \" data-stat=\"age\">26</td><td class=\"left \" data-stat=\"team\"><a href=\"/teams/clt/2015.htm\" title=\"Indianapolis Colts\">IND</a></td><td class=\"left \" data-stat=\"pos\">qb</td><td class=\"right \" data-stat=\"uniform_number\">12</td><td class=\"right \" data-stat=\"g\">7</td><td class=\"right \" data-stat=\"gs\">7</td><td class=\"right \" csk=\"0.28571\" data-stat=\"qb_rec\">2-5-0</td><td class=\"right \" data-stat=\"pass_cmp\">162</td><td class=\"right \" data-stat=\"pass_att\">293</td><td class=\"right \" data-stat=\"pass_cmp_perc\">55.3</td><td class=\"right \" data-stat=\"pass_yds\">1881</td><td class=\"right \" data-stat=\"pass_td\">15</td><td class=\"right \" data-stat=\"pass_td_perc\">5.1</td><td class=\"right \" data-stat=\"pass_int\">12</td><td class=\"right \" data-stat=\"pass_int_perc\">4.1</td><td class=\"right \" data-stat=\"pass_long\">87</td><td class=\"right \" data-stat=\"pass_yds_per_att\">6.4</td><td class=\"right \" data-stat=\"pass_adj_yds_per_att\">5.6</td><td class=\"right \" data-stat=\"pass_yds_per_cmp\">11.6</td><td class=\"right \" data-stat=\"pass_yds_per_g\">268.7</td><td class=\"right \" data-stat=\"pass_rating\">74.9</td><td class=\"right \" data-stat=\"qbr\">49.4</td><td class=\"right \" data-stat=\"pass_sacked\">15</td><td class=\"right \" data-stat=\"pass_sacked_yds\">88</td><td class=\"right \" data-stat=\"pass_net_yds_per_att\">5.82</td><td class=\"right \" data-stat=\"pass_adj_net_yds_per_att\">5.04</td><td class=\"right \" data-stat=\"pass_sacked_perc\">4.9</td><td class=\"right \" data-stat=\"comebacks\">1</td><td class=\"right \" data-stat=\"gwd\">2</td><td class=\"right \" data-stat=\"av\">4</td></tr>\n",
       " <tr class=\"full_table\" id=\"passing.2016\"><th class=\"left \" data-stat=\"year_id\" scope=\"row\"><a href=\"/years/2016/\">2016</a></th><td class=\"right \" data-stat=\"age\">27</td><td class=\"left \" data-stat=\"team\"><a href=\"/teams/clt/2016.htm\" title=\"Indianapolis Colts\">IND</a></td><td class=\"left \" data-stat=\"pos\">QB</td><td class=\"right \" data-stat=\"uniform_number\">12</td><td class=\"right \" data-stat=\"g\">15</td><td class=\"right \" data-stat=\"gs\">15</td><td class=\"right \" csk=\"0.53333\" data-stat=\"qb_rec\">8-7-0</td><td class=\"right \" data-stat=\"pass_cmp\">346</td><td class=\"right \" data-stat=\"pass_att\">545</td><td class=\"right \" data-stat=\"pass_cmp_perc\">63.5</td><td class=\"right \" data-stat=\"pass_yds\">4240</td><td class=\"right \" data-stat=\"pass_td\">31</td><td class=\"right \" data-stat=\"pass_td_perc\">5.7</td><td class=\"right \" data-stat=\"pass_int\">13</td><td class=\"right \" data-stat=\"pass_int_perc\">2.4</td><td class=\"right \" data-stat=\"pass_long\">64</td><td class=\"right \" data-stat=\"pass_yds_per_att\">7.8</td><td class=\"right \" data-stat=\"pass_adj_yds_per_att\">7.8</td><td class=\"right \" data-stat=\"pass_yds_per_cmp\">12.3</td><td class=\"right \" data-stat=\"pass_yds_per_g\">282.7</td><td class=\"right \" data-stat=\"pass_rating\">96.4</td><td class=\"right \" data-stat=\"qbr\">65.9</td><td class=\"right \" data-stat=\"pass_sacked\">41</td><td class=\"right \" data-stat=\"pass_sacked_yds\">268</td><td class=\"right \" data-stat=\"pass_net_yds_per_att\">6.78</td><td class=\"right \" data-stat=\"pass_adj_net_yds_per_att\">6.84</td><td class=\"right \" data-stat=\"pass_sacked_perc\">7.0</td><td class=\"right \" data-stat=\"comebacks\">4</td><td class=\"right \" data-stat=\"gwd\">4</td><td class=\"right \" data-stat=\"av\">16</td></tr>\n",
       " <tr class=\"full_table\" id=\"passing.2018\"><th class=\"left \" data-stat=\"year_id\" scope=\"row\"><a href=\"/years/2018/\">2018</a>*</th><td class=\"right \" data-stat=\"age\">29</td><td class=\"left \" data-stat=\"team\"><a href=\"/teams/clt/2018.htm\" title=\"Indianapolis Colts\">IND</a></td><td class=\"left \" data-stat=\"pos\">QB</td><td class=\"right \" data-stat=\"uniform_number\">12</td><td class=\"right \" data-stat=\"g\">16</td><td class=\"right \" data-stat=\"gs\">16</td><td class=\"right \" csk=\"0.62500\" data-stat=\"qb_rec\">10-6-0</td><td class=\"right \" data-stat=\"pass_cmp\">430</td><td class=\"right \" data-stat=\"pass_att\">639</td><td class=\"right \" data-stat=\"pass_cmp_perc\">67.3</td><td class=\"right \" data-stat=\"pass_yds\">4593</td><td class=\"right \" data-stat=\"pass_td\">39</td><td class=\"right \" data-stat=\"pass_td_perc\">6.1</td><td class=\"right \" data-stat=\"pass_int\">15</td><td class=\"right \" data-stat=\"pass_int_perc\">2.3</td><td class=\"right \" data-stat=\"pass_long\">68</td><td class=\"right \" data-stat=\"pass_yds_per_att\">7.2</td><td class=\"right \" data-stat=\"pass_adj_yds_per_att\">7.4</td><td class=\"right \" data-stat=\"pass_yds_per_cmp\">10.7</td><td class=\"right \" data-stat=\"pass_yds_per_g\">287.1</td><td class=\"right \" data-stat=\"pass_rating\">98.7</td><td class=\"right \" data-stat=\"qbr\">71.5</td><td class=\"right \" data-stat=\"pass_sacked\">18</td><td class=\"right \" data-stat=\"pass_sacked_yds\">134</td><td class=\"right \" data-stat=\"pass_net_yds_per_att\">6.79</td><td class=\"right \" data-stat=\"pass_adj_net_yds_per_att\">6.95</td><td class=\"right \" data-stat=\"pass_sacked_perc\"><strong>2.7</strong></td><td class=\"right \" data-stat=\"comebacks\">3</td><td class=\"right \" data-stat=\"gwd\">3</td><td class=\"right \" data-stat=\"av\">15</td></tr>\n",
       " </tbody>\n",
       " <tfoot><tr><th class=\"left \" colspan=\"2\" data-stat=\"year_id\" scope=\"row\">Career</th><td class=\"left iz\" data-stat=\"team\"></td><td class=\"left iz\" data-stat=\"pos\"></td><td class=\"right iz\" data-stat=\"uniform_number\"></td><td class=\"right \" data-stat=\"g\">86</td><td class=\"right \" data-stat=\"gs\">86</td><td class=\"right \" csk=\"53\" data-stat=\"qb_rec\">53-33-0</td><td class=\"right \" data-stat=\"pass_cmp\">2000</td><td class=\"right \" data-stat=\"pass_att\">3290</td><td class=\"right \" data-stat=\"pass_cmp_perc\">60.8</td><td class=\"right \" data-stat=\"pass_yds\">23671</td><td class=\"right \" data-stat=\"pass_td\">171</td><td class=\"right \" data-stat=\"pass_td_perc\">5.2</td><td class=\"right \" data-stat=\"pass_int\">83</td><td class=\"right \" data-stat=\"pass_int_perc\">2.5</td><td class=\"right \" data-stat=\"pass_long\">87</td><td class=\"right \" data-stat=\"pass_yds_per_att\">7.2</td><td class=\"right \" data-stat=\"pass_adj_yds_per_att\">7.1</td><td class=\"right \" data-stat=\"pass_yds_per_cmp\">11.8</td><td class=\"right \" data-stat=\"pass_yds_per_g\">275.2</td><td class=\"right \" data-stat=\"pass_rating\">89.5</td><td class=\"right iz\" data-stat=\"qbr\"></td><td class=\"right \" data-stat=\"pass_sacked\">174</td><td class=\"right \" data-stat=\"pass_sacked_yds\">1124</td><td class=\"right \" data-stat=\"pass_net_yds_per_att\">6.51</td><td class=\"right \" data-stat=\"pass_adj_net_yds_per_att\">6.42</td><td class=\"right \" data-stat=\"pass_sacked_perc\">5.0</td><td class=\"right \" data-stat=\"comebacks\">16</td><td class=\"right \" data-stat=\"gwd\">20</td><td class=\"right \" data-stat=\"av\">79</td></tr>\n",
       " </tfoot>\n",
       " </table>]"
      ]
     },
     "execution_count": 6,
     "metadata": {},
     "output_type": "execute_result"
    }
   ],
   "source": [
    "soup = bs(requests.get(url).text)\n",
    "soup.findAll('table', {'class' : 'sortable'})"
   ]
  },
  {
   "cell_type": "code",
   "execution_count": 7,
   "metadata": {},
   "outputs": [],
   "source": [
    "weeks = list(range(1,18))\n",
    "base_url = \"http://api.fantasy.nfl.com/v1/players/stats?statType=weekStats&season=2018&week={}&form=json\"\n",
    "\n",
    "#target_url = \"http://api.fantasy.nfl.com/v1/players/stats?statType= weekStats&season=2018&week=1&format=json\"\n",
    "#response = requests.get(target_url).json()"
   ]
  },
  {
   "cell_type": "code",
   "execution_count": 8,
   "metadata": {},
   "outputs": [],
   "source": [
    "fantasy_dict = {}"
   ]
  },
  {
   "cell_type": "code",
   "execution_count": 9,
   "metadata": {},
   "outputs": [],
   "source": [
    "for week in weeks:\n",
    "    target_url = base_url.format(week)\n",
    "    fantasy_dict[\"week{}\".format(week)] = pd.DataFrame(requests.get(target_url).json())\n",
    "#    response = requests.get(target_url).json()\n",
    "#   df = pd.DataFrame(response)"
   ]
  },
  {
   "cell_type": "code",
   "execution_count": 10,
   "metadata": {},
   "outputs": [],
   "source": [
    "#df = pd.DataFrame(response)\n",
    "for week in weeks:\n",
    "    target_url = base_url.format(week)\n",
    "    #fantasy_dict[\"week{}\".format(week)] = target_url\n",
    "    #fantasy_dict[\"week{}\".format(week)] = pd.DataFrame(target_url)\n",
    "\n",
    "    "
   ]
  },
  {
   "cell_type": "code",
   "execution_count": 11,
   "metadata": {},
   "outputs": [
    {
     "data": {
      "text/plain": [
       "{'esbid': 'ALL529264',\n",
       " 'gsisPlayerId': '00-0034857',\n",
       " 'id': '2560955',\n",
       " 'name': 'Josh Allen',\n",
       " 'position': 'QB',\n",
       " 'seasonProjectedPts': 184.15,\n",
       " 'seasonPts': 208.06,\n",
       " 'stats': {'1': '1',\n",
       "  '13': '4',\n",
       "  '14': '26',\n",
       "  '2': '15',\n",
       "  '3': '6',\n",
       "  '4': '9',\n",
       "  '5': '74',\n",
       "  '8': '3'},\n",
       " 'teamAbbr': 'BUF',\n",
       " 'weekProjectedPts': 0.43,\n",
       " 'weekPts': 5.56}"
      ]
     },
     "execution_count": 11,
     "metadata": {},
     "output_type": "execute_result"
    }
   ],
   "source": [
    "#fantasy_df = pd.DataFrame(fantasy_dict)\n",
    "fantasy_dict['week17']['players'][25]\n",
    "#datafra = pd.DataFrame(fantasy_dict['week1']['players'])\n",
    "fantasy_dict['week1']['players'][19]"
   ]
  },
  {
   "cell_type": "code",
   "execution_count": 13,
   "metadata": {},
   "outputs": [
    {
     "ename": "NameError",
     "evalue": "name 'df' is not defined",
     "output_type": "error",
     "traceback": [
      "\u001b[1;31m---------------------------------------------------------------------------\u001b[0m",
      "\u001b[1;31mNameError\u001b[0m                                 Traceback (most recent call last)",
      "\u001b[1;32m<ipython-input-13-918eff42c3d7>\u001b[0m in \u001b[0;36m<module>\u001b[1;34m()\u001b[0m\n\u001b[1;32m----> 1\u001b[1;33m \u001b[0mplayers_count\u001b[0m \u001b[1;33m=\u001b[0m \u001b[0mpd\u001b[0m\u001b[1;33m.\u001b[0m\u001b[0mDataFrame\u001b[0m\u001b[1;33m(\u001b[0m\u001b[0mdf\u001b[0m\u001b[1;33m[\u001b[0m\u001b[1;34m'players'\u001b[0m\u001b[1;33m]\u001b[0m\u001b[1;33m)\u001b[0m\u001b[1;33m.\u001b[0m\u001b[0mcount\u001b[0m\u001b[1;33m(\u001b[0m\u001b[1;33m)\u001b[0m\u001b[1;33m[\u001b[0m\u001b[1;36m0\u001b[0m\u001b[1;33m]\u001b[0m\u001b[1;33m\u001b[0m\u001b[0m\n\u001b[0m",
      "\u001b[1;31mNameError\u001b[0m: name 'df' is not defined"
     ]
    }
   ],
   "source": [
    "players_count = pd.DataFrame(df['players']).count()[0]"
   ]
  },
  {
   "cell_type": "code",
   "execution_count": 14,
   "metadata": {},
   "outputs": [
    {
     "ename": "NameError",
     "evalue": "name 'players_count' is not defined",
     "output_type": "error",
     "traceback": [
      "\u001b[1;31m---------------------------------------------------------------------------\u001b[0m",
      "\u001b[1;31mNameError\u001b[0m                                 Traceback (most recent call last)",
      "\u001b[1;32m<ipython-input-14-d4c89440705d>\u001b[0m in \u001b[0;36m<module>\u001b[1;34m()\u001b[0m\n\u001b[1;32m----> 1\u001b[1;33m \u001b[1;32mfor\u001b[0m \u001b[0mi\u001b[0m \u001b[1;32min\u001b[0m \u001b[0mrange\u001b[0m\u001b[1;33m(\u001b[0m\u001b[0mplayers_count\u001b[0m\u001b[1;33m)\u001b[0m\u001b[1;33m:\u001b[0m\u001b[1;33m\u001b[0m\u001b[0m\n\u001b[0m\u001b[0;32m      2\u001b[0m     \u001b[0mplayers\u001b[0m \u001b[1;33m=\u001b[0m \u001b[0mpd\u001b[0m\u001b[1;33m.\u001b[0m\u001b[0mDataFrame\u001b[0m\u001b[1;33m(\u001b[0m\u001b[0mdf\u001b[0m\u001b[1;33m[\u001b[0m\u001b[1;34m'players'\u001b[0m\u001b[1;33m]\u001b[0m\u001b[1;33m[\u001b[0m\u001b[0mi\u001b[0m\u001b[1;33m]\u001b[0m\u001b[1;33m)\u001b[0m\u001b[1;33m\u001b[0m\u001b[0m\n",
      "\u001b[1;31mNameError\u001b[0m: name 'players_count' is not defined"
     ]
    }
   ],
   "source": [
    "for i in range(players_count):\n",
    "    players = pd.DataFrame(df['players'][i])"
   ]
  },
  {
   "cell_type": "code",
   "execution_count": 15,
   "metadata": {},
   "outputs": [
    {
     "ename": "NameError",
     "evalue": "name 'df' is not defined",
     "output_type": "error",
     "traceback": [
      "\u001b[1;31m---------------------------------------------------------------------------\u001b[0m",
      "\u001b[1;31mNameError\u001b[0m                                 Traceback (most recent call last)",
      "\u001b[1;32m<ipython-input-15-627cf83abdf8>\u001b[0m in \u001b[0;36m<module>\u001b[1;34m()\u001b[0m\n\u001b[1;32m----> 1\u001b[1;33m \u001b[0mpd\u001b[0m\u001b[1;33m.\u001b[0m\u001b[0mDataFrame\u001b[0m\u001b[1;33m(\u001b[0m\u001b[0mdf\u001b[0m\u001b[1;33m[\u001b[0m\u001b[1;34m'players'\u001b[0m\u001b[1;33m]\u001b[0m\u001b[1;33m[\u001b[0m\u001b[1;36m2\u001b[0m\u001b[1;33m]\u001b[0m\u001b[1;33m)\u001b[0m\u001b[1;33m\u001b[0m\u001b[0m\n\u001b[0m",
      "\u001b[1;31mNameError\u001b[0m: name 'df' is not defined"
     ]
    }
   ],
   "source": [
    "pd.DataFrame(df['players'][2])"
   ]
  },
  {
   "cell_type": "code",
   "execution_count": 25,
   "metadata": {},
   "outputs": [
    {
     "ename": "UnicodeDecodeError",
     "evalue": "'utf-8' codec can't decode byte 0xa0 in position 0: invalid start byte",
     "output_type": "error",
     "traceback": [
      "\u001b[1;31m---------------------------------------------------------------------------\u001b[0m",
      "\u001b[1;31mUnicodeDecodeError\u001b[0m                        Traceback (most recent call last)",
      "\u001b[1;32mpandas/_libs/parsers.pyx\u001b[0m in \u001b[0;36mpandas._libs.parsers.TextReader._convert_tokens\u001b[1;34m()\u001b[0m\n",
      "\u001b[1;32mpandas/_libs/parsers.pyx\u001b[0m in \u001b[0;36mpandas._libs.parsers.TextReader._convert_with_dtype\u001b[1;34m()\u001b[0m\n",
      "\u001b[1;32mpandas/_libs/parsers.pyx\u001b[0m in \u001b[0;36mpandas._libs.parsers.TextReader._string_convert\u001b[1;34m()\u001b[0m\n",
      "\u001b[1;32mpandas/_libs/parsers.pyx\u001b[0m in \u001b[0;36mpandas._libs.parsers._string_box_utf8\u001b[1;34m()\u001b[0m\n",
      "\u001b[1;31mUnicodeDecodeError\u001b[0m: 'utf-8' codec can't decode byte 0xa0 in position 0: invalid start byte",
      "\nDuring handling of the above exception, another exception occurred:\n",
      "\u001b[1;31mUnicodeDecodeError\u001b[0m                        Traceback (most recent call last)",
      "\u001b[1;32m<ipython-input-25-6a3ac483f745>\u001b[0m in \u001b[0;36m<module>\u001b[1;34m()\u001b[0m\n\u001b[0;32m      1\u001b[0m \u001b[1;31m#pd.read_csv('NFL_2018_Schedule.csv', encoding = \"utf-8\")\u001b[0m\u001b[1;33m\u001b[0m\u001b[1;33m\u001b[0m\u001b[0m\n\u001b[1;32m----> 2\u001b[1;33m \u001b[0mdata\u001b[0m \u001b[1;33m=\u001b[0m \u001b[0mpd\u001b[0m\u001b[1;33m.\u001b[0m\u001b[0mread_csv\u001b[0m\u001b[1;33m(\u001b[0m\u001b[1;34m'2018.csv'\u001b[0m\u001b[1;33m)\u001b[0m\u001b[1;33m\u001b[0m\u001b[0m\n\u001b[0m",
      "\u001b[1;32m~\\Anaconda3\\lib\\site-packages\\pandas\\io\\parsers.py\u001b[0m in \u001b[0;36mparser_f\u001b[1;34m(filepath_or_buffer, sep, delimiter, header, names, index_col, usecols, squeeze, prefix, mangle_dupe_cols, dtype, engine, converters, true_values, false_values, skipinitialspace, skiprows, nrows, na_values, keep_default_na, na_filter, verbose, skip_blank_lines, parse_dates, infer_datetime_format, keep_date_col, date_parser, dayfirst, iterator, chunksize, compression, thousands, decimal, lineterminator, quotechar, quoting, escapechar, comment, encoding, dialect, tupleize_cols, error_bad_lines, warn_bad_lines, skipfooter, skip_footer, doublequote, delim_whitespace, as_recarray, compact_ints, use_unsigned, low_memory, buffer_lines, memory_map, float_precision)\u001b[0m\n\u001b[0;32m    707\u001b[0m                     skip_blank_lines=skip_blank_lines)\n\u001b[0;32m    708\u001b[0m \u001b[1;33m\u001b[0m\u001b[0m\n\u001b[1;32m--> 709\u001b[1;33m         \u001b[1;32mreturn\u001b[0m \u001b[0m_read\u001b[0m\u001b[1;33m(\u001b[0m\u001b[0mfilepath_or_buffer\u001b[0m\u001b[1;33m,\u001b[0m \u001b[0mkwds\u001b[0m\u001b[1;33m)\u001b[0m\u001b[1;33m\u001b[0m\u001b[0m\n\u001b[0m\u001b[0;32m    710\u001b[0m \u001b[1;33m\u001b[0m\u001b[0m\n\u001b[0;32m    711\u001b[0m     \u001b[0mparser_f\u001b[0m\u001b[1;33m.\u001b[0m\u001b[0m__name__\u001b[0m \u001b[1;33m=\u001b[0m \u001b[0mname\u001b[0m\u001b[1;33m\u001b[0m\u001b[0m\n",
      "\u001b[1;32m~\\Anaconda3\\lib\\site-packages\\pandas\\io\\parsers.py\u001b[0m in \u001b[0;36m_read\u001b[1;34m(filepath_or_buffer, kwds)\u001b[0m\n\u001b[0;32m    453\u001b[0m \u001b[1;33m\u001b[0m\u001b[0m\n\u001b[0;32m    454\u001b[0m     \u001b[1;32mtry\u001b[0m\u001b[1;33m:\u001b[0m\u001b[1;33m\u001b[0m\u001b[0m\n\u001b[1;32m--> 455\u001b[1;33m         \u001b[0mdata\u001b[0m \u001b[1;33m=\u001b[0m \u001b[0mparser\u001b[0m\u001b[1;33m.\u001b[0m\u001b[0mread\u001b[0m\u001b[1;33m(\u001b[0m\u001b[0mnrows\u001b[0m\u001b[1;33m)\u001b[0m\u001b[1;33m\u001b[0m\u001b[0m\n\u001b[0m\u001b[0;32m    456\u001b[0m     \u001b[1;32mfinally\u001b[0m\u001b[1;33m:\u001b[0m\u001b[1;33m\u001b[0m\u001b[0m\n\u001b[0;32m    457\u001b[0m         \u001b[0mparser\u001b[0m\u001b[1;33m.\u001b[0m\u001b[0mclose\u001b[0m\u001b[1;33m(\u001b[0m\u001b[1;33m)\u001b[0m\u001b[1;33m\u001b[0m\u001b[0m\n",
      "\u001b[1;32m~\\Anaconda3\\lib\\site-packages\\pandas\\io\\parsers.py\u001b[0m in \u001b[0;36mread\u001b[1;34m(self, nrows)\u001b[0m\n\u001b[0;32m   1067\u001b[0m                 \u001b[1;32mraise\u001b[0m \u001b[0mValueError\u001b[0m\u001b[1;33m(\u001b[0m\u001b[1;34m'skipfooter not supported for iteration'\u001b[0m\u001b[1;33m)\u001b[0m\u001b[1;33m\u001b[0m\u001b[0m\n\u001b[0;32m   1068\u001b[0m \u001b[1;33m\u001b[0m\u001b[0m\n\u001b[1;32m-> 1069\u001b[1;33m         \u001b[0mret\u001b[0m \u001b[1;33m=\u001b[0m \u001b[0mself\u001b[0m\u001b[1;33m.\u001b[0m\u001b[0m_engine\u001b[0m\u001b[1;33m.\u001b[0m\u001b[0mread\u001b[0m\u001b[1;33m(\u001b[0m\u001b[0mnrows\u001b[0m\u001b[1;33m)\u001b[0m\u001b[1;33m\u001b[0m\u001b[0m\n\u001b[0m\u001b[0;32m   1070\u001b[0m \u001b[1;33m\u001b[0m\u001b[0m\n\u001b[0;32m   1071\u001b[0m         \u001b[1;32mif\u001b[0m \u001b[0mself\u001b[0m\u001b[1;33m.\u001b[0m\u001b[0moptions\u001b[0m\u001b[1;33m.\u001b[0m\u001b[0mget\u001b[0m\u001b[1;33m(\u001b[0m\u001b[1;34m'as_recarray'\u001b[0m\u001b[1;33m)\u001b[0m\u001b[1;33m:\u001b[0m\u001b[1;33m\u001b[0m\u001b[0m\n",
      "\u001b[1;32m~\\Anaconda3\\lib\\site-packages\\pandas\\io\\parsers.py\u001b[0m in \u001b[0;36mread\u001b[1;34m(self, nrows)\u001b[0m\n\u001b[0;32m   1837\u001b[0m     \u001b[1;32mdef\u001b[0m \u001b[0mread\u001b[0m\u001b[1;33m(\u001b[0m\u001b[0mself\u001b[0m\u001b[1;33m,\u001b[0m \u001b[0mnrows\u001b[0m\u001b[1;33m=\u001b[0m\u001b[1;32mNone\u001b[0m\u001b[1;33m)\u001b[0m\u001b[1;33m:\u001b[0m\u001b[1;33m\u001b[0m\u001b[0m\n\u001b[0;32m   1838\u001b[0m         \u001b[1;32mtry\u001b[0m\u001b[1;33m:\u001b[0m\u001b[1;33m\u001b[0m\u001b[0m\n\u001b[1;32m-> 1839\u001b[1;33m             \u001b[0mdata\u001b[0m \u001b[1;33m=\u001b[0m \u001b[0mself\u001b[0m\u001b[1;33m.\u001b[0m\u001b[0m_reader\u001b[0m\u001b[1;33m.\u001b[0m\u001b[0mread\u001b[0m\u001b[1;33m(\u001b[0m\u001b[0mnrows\u001b[0m\u001b[1;33m)\u001b[0m\u001b[1;33m\u001b[0m\u001b[0m\n\u001b[0m\u001b[0;32m   1840\u001b[0m         \u001b[1;32mexcept\u001b[0m \u001b[0mStopIteration\u001b[0m\u001b[1;33m:\u001b[0m\u001b[1;33m\u001b[0m\u001b[0m\n\u001b[0;32m   1841\u001b[0m             \u001b[1;32mif\u001b[0m \u001b[0mself\u001b[0m\u001b[1;33m.\u001b[0m\u001b[0m_first_chunk\u001b[0m\u001b[1;33m:\u001b[0m\u001b[1;33m\u001b[0m\u001b[0m\n",
      "\u001b[1;32mpandas/_libs/parsers.pyx\u001b[0m in \u001b[0;36mpandas._libs.parsers.TextReader.read\u001b[1;34m()\u001b[0m\n",
      "\u001b[1;32mpandas/_libs/parsers.pyx\u001b[0m in \u001b[0;36mpandas._libs.parsers.TextReader._read_low_memory\u001b[1;34m()\u001b[0m\n",
      "\u001b[1;32mpandas/_libs/parsers.pyx\u001b[0m in \u001b[0;36mpandas._libs.parsers.TextReader._read_rows\u001b[1;34m()\u001b[0m\n",
      "\u001b[1;32mpandas/_libs/parsers.pyx\u001b[0m in \u001b[0;36mpandas._libs.parsers.TextReader._convert_column_data\u001b[1;34m()\u001b[0m\n",
      "\u001b[1;32mpandas/_libs/parsers.pyx\u001b[0m in \u001b[0;36mpandas._libs.parsers.TextReader._convert_tokens\u001b[1;34m()\u001b[0m\n",
      "\u001b[1;32mpandas/_libs/parsers.pyx\u001b[0m in \u001b[0;36mpandas._libs.parsers.TextReader._convert_with_dtype\u001b[1;34m()\u001b[0m\n",
      "\u001b[1;32mpandas/_libs/parsers.pyx\u001b[0m in \u001b[0;36mpandas._libs.parsers.TextReader._string_convert\u001b[1;34m()\u001b[0m\n",
      "\u001b[1;32mpandas/_libs/parsers.pyx\u001b[0m in \u001b[0;36mpandas._libs.parsers._string_box_utf8\u001b[1;34m()\u001b[0m\n",
      "\u001b[1;31mUnicodeDecodeError\u001b[0m: 'utf-8' codec can't decode byte 0xa0 in position 0: invalid start byte"
     ]
    }
   ],
   "source": [
    "#pd.read_csv('NFL_2018_Schedule.csv', encoding = \"utf-8\")\n",
    "data = pd.read_csv('2018.csv')"
   ]
  },
  {
   "cell_type": "code",
   "execution_count": null,
   "metadata": {},
   "outputs": [],
   "source": []
  }
 ],
 "metadata": {
  "kernelspec": {
   "display_name": "Python 3",
   "language": "python",
   "name": "python3"
  },
  "language_info": {
   "codemirror_mode": {
    "name": "ipython",
    "version": 3
   },
   "file_extension": ".py",
   "mimetype": "text/x-python",
   "name": "python",
   "nbconvert_exporter": "python",
   "pygments_lexer": "ipython3",
   "version": "3.6.4"
  }
 },
 "nbformat": 4,
 "nbformat_minor": 2
}
